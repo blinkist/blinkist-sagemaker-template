{
 "cells": [
  {
   "cell_type": "code",
   "execution_count": 1,
   "metadata": {
    "execution": {
     "iopub.execute_input": "2020-11-13T19:04:51.009Z",
     "iopub.status.busy": "2020-11-13T19:04:51.005Z",
     "iopub.status.idle": "2020-11-13T19:04:51.022Z",
     "shell.execute_reply": "2020-11-13T19:04:51.027Z"
    }
   },
   "outputs": [],
   "source": [
    "%load_ext autoreload\n",
    "%autoreload 2"
   ]
  },
  {
   "cell_type": "code",
   "execution_count": 4,
   "metadata": {
    "execution": {
     "iopub.execute_input": "2020-11-13T19:04:55.101Z",
     "iopub.status.busy": "2020-11-13T19:04:55.095Z",
     "iopub.status.idle": "2020-11-13T19:04:55.204Z",
     "shell.execute_reply": "2020-11-13T19:04:55.208Z"
    }
   },
   "outputs": [],
   "source": [
    "from module import greeter"
   ]
  },
  {
   "cell_type": "code",
   "execution_count": 5,
   "metadata": {
    "execution": {
     "iopub.execute_input": "2020-11-13T19:04:56.805Z",
     "iopub.status.busy": "2020-11-13T19:04:56.801Z",
     "iopub.status.idle": "2020-11-13T19:04:56.821Z",
     "shell.execute_reply": "2020-11-13T19:04:56.824Z"
    }
   },
   "outputs": [
    {
     "name": "stdout",
     "output_type": "stream",
     "text": [
      "Hello, Jon!\n"
     ]
    }
   ],
   "source": [
    "greeter(\"Jon\")"
   ]
  }
 ],
 "metadata": {
  "kernelspec": {
   "display_name": "blinkist",
   "language": "python",
   "name": "blinkist"
  },
  "language_info": {
   "codemirror_mode": {
    "name": "ipython",
    "version": 3
   },
   "file_extension": ".py",
   "mimetype": "text/x-python",
   "name": "python",
   "nbconvert_exporter": "python",
   "pygments_lexer": "ipython3",
   "version": "3.6.11"
  },
  "nteract": {
   "version": "0.26.0"
  }
 },
 "nbformat": 4,
 "nbformat_minor": 4
}
