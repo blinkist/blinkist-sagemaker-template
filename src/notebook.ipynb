{
  "cells": [
    {
      "cell_type": "code",
      "source": [
        "%load_ext autoreload\n",
        "%autoreload 2"
      ],
      "outputs": [],
      "execution_count": null,
      "metadata": {
        "execution": {
          "iopub.status.busy": "2020-11-13T19:04:51.005Z",
          "iopub.execute_input": "2020-11-13T19:04:51.009Z",
          "iopub.status.idle": "2020-11-13T19:04:51.022Z",
          "shell.execute_reply": "2020-11-13T19:04:51.027Z"
        }
      }
    },
    {
      "cell_type": "code",
      "source": [
        "from src.module import greeter"
      ],
      "outputs": [],
      "execution_count": null,
      "metadata": {
        "execution": {
          "iopub.status.busy": "2020-11-13T19:04:55.095Z",
          "iopub.execute_input": "2020-11-13T19:04:55.101Z",
          "iopub.status.idle": "2020-11-13T19:04:55.204Z",
          "shell.execute_reply": "2020-11-13T19:04:55.208Z"
        }
      }
    },
    {
      "cell_type": "code",
      "source": [
        "greeter(\"Jon\")"
      ],
      "outputs": [],
      "execution_count": null,
      "metadata": {
        "execution": {
          "iopub.status.busy": "2020-11-13T19:04:56.801Z",
          "iopub.execute_input": "2020-11-13T19:04:56.805Z",
          "iopub.status.idle": "2020-11-13T19:04:56.821Z",
          "shell.execute_reply": "2020-11-13T19:04:56.824Z"
        }
      }
    }
  ],
  "metadata": {
    "kernelspec": {
      "display_name": "blinkist",
      "language": "python",
      "name": "blinkist"
    },
    "language_info": {
      "name": "python",
      "version": "3.8.3",
      "mimetype": "text/x-python",
      "codemirror_mode": {
        "name": "ipython",
        "version": 3
      },
      "pygments_lexer": "ipython3",
      "nbconvert_exporter": "python",
      "file_extension": ".py"
    },
    "nteract": {
      "version": "0.26.0"
    }
  },
  "nbformat": 4,
  "nbformat_minor": 4
}